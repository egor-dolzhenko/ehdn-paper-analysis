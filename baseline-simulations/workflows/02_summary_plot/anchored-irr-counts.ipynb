{
 "cells": [
  {
   "cell_type": "code",
   "execution_count": 1,
   "metadata": {},
   "outputs": [],
   "source": [
    "import itertools\n",
    "import numpy as np\n",
    "from pandas import Series, DataFrame\n",
    "import pandas as pd\n",
    "import matplotlib.pyplot as plt\n",
    "import matplotlib\n",
    "%matplotlib inline\n",
    "plt.rcParams['figure.figsize'] = [16.5, 5]"
   ]
  },
  {
   "cell_type": "code",
   "execution_count": 2,
   "metadata": {},
   "outputs": [],
   "source": [
    "plt.rcParams['pdf.fonttype'] = 42\n",
    "#plt.rcParams['font.family'] = 'Roboto Condensed'\n",
    "matplotlib.rcParams.update({'font.size': 12})"
   ]
  },
  {
   "cell_type": "code",
   "execution_count": 3,
   "metadata": {},
   "outputs": [],
   "source": [
    "import os\n",
    "import json\n",
    "import random\n",
    "import csv\n",
    "import copy\n",
    "import scipy.stats as stats"
   ]
  },
  {
   "cell_type": "markdown",
   "metadata": {},
   "source": [
    "## Setup"
   ]
  },
  {
   "cell_type": "code",
   "execution_count": 4,
   "metadata": {},
   "outputs": [],
   "source": [
    "input_dir = '../../scratch/'\n",
    "\n",
    "target_region = ('4', 3076604 - 500, 3076660 + 500)\n",
    "target_repeat_unit = 'AGC'"
   ]
  },
  {
   "cell_type": "markdown",
   "metadata": {},
   "source": [
    "### Load data"
   ]
  },
  {
   "cell_type": "code",
   "execution_count": 5,
   "metadata": {},
   "outputs": [],
   "source": [
    "def overlaps(region_a, region_b):\n",
    "    chrom_a, start_a, end_a = region_a\n",
    "    chrom_b, start_b, end_b = region_b\n",
    "\n",
    "    if chrom_a != chrom_b:\n",
    "        return False\n",
    "\n",
    "    overlap = max(0, min(end_a, end_b) - max(start_a, start_b))\n",
    "    if overlap == 0:\n",
    "        return False\n",
    "\n",
    "    return True"
   ]
  },
  {
   "cell_type": "code",
   "execution_count": 6,
   "metadata": {},
   "outputs": [],
   "source": [
    "def extract_anchored_irr_count(eh_denovo_out):\n",
    "    if target_repeat_unit not in eh_denovo_out:\n",
    "        return 0\n",
    "    \n",
    "    if 'RegionsWithIrrAnchors' not in eh_denovo_out[target_repeat_unit]:\n",
    "        return 0\n",
    "    \n",
    "    total_anc_irr_count = 0\n",
    "    for region, count in eh_denovo_out[target_repeat_unit]['RegionsWithIrrAnchors'].items():\n",
    "        count = int(count)\n",
    "        region = region.replace(':', '-').replace('-', '\\t').split()\n",
    "        region = (region[0], int(region[1]), int(region[2]))\n",
    "        if overlaps(target_region, region):\n",
    "            total_anc_irr_count += count\n",
    "    \n",
    "    return total_anc_irr_count\n",
    "\n",
    "\n",
    "def extract_irr_pair_count(eh_denovo_out):\n",
    "    if target_repeat_unit not in eh_denovo_out:\n",
    "        return 0\n",
    "\n",
    "    if 'IrrPairCount' not in eh_denovo_out[target_repeat_unit]:\n",
    "        return 0\n",
    "    \n",
    "    num_irr_pair = int(eh_denovo_out[target_repeat_unit]['IrrPairCount'])\n",
    "    return num_irr_pair"
   ]
  },
  {
   "cell_type": "code",
   "execution_count": 7,
   "metadata": {},
   "outputs": [
    {
     "data": {
      "text/html": [
       "<div>\n",
       "<style scoped>\n",
       "    .dataframe tbody tr th:only-of-type {\n",
       "        vertical-align: middle;\n",
       "    }\n",
       "\n",
       "    .dataframe tbody tr th {\n",
       "        vertical-align: top;\n",
       "    }\n",
       "\n",
       "    .dataframe thead th {\n",
       "        text-align: right;\n",
       "    }\n",
       "</style>\n",
       "<table border=\"1\" class=\"dataframe\">\n",
       "  <thead>\n",
       "    <tr style=\"text-align: right;\">\n",
       "      <th></th>\n",
       "      <th>expected_size</th>\n",
       "      <th>num_anchored_irrs</th>\n",
       "      <th>num_irr_pairs</th>\n",
       "      <th>replicate_num</th>\n",
       "    </tr>\n",
       "  </thead>\n",
       "  <tbody>\n",
       "    <tr>\n",
       "      <th>0</th>\n",
       "      <td>37</td>\n",
       "      <td>0</td>\n",
       "      <td>0</td>\n",
       "      <td>34</td>\n",
       "    </tr>\n",
       "    <tr>\n",
       "      <th>1</th>\n",
       "      <td>37</td>\n",
       "      <td>0</td>\n",
       "      <td>0</td>\n",
       "      <td>35</td>\n",
       "    </tr>\n",
       "    <tr>\n",
       "      <th>2</th>\n",
       "      <td>37</td>\n",
       "      <td>0</td>\n",
       "      <td>0</td>\n",
       "      <td>24</td>\n",
       "    </tr>\n",
       "    <tr>\n",
       "      <th>3</th>\n",
       "      <td>37</td>\n",
       "      <td>0</td>\n",
       "      <td>0</td>\n",
       "      <td>11</td>\n",
       "    </tr>\n",
       "    <tr>\n",
       "      <th>4</th>\n",
       "      <td>37</td>\n",
       "      <td>0</td>\n",
       "      <td>0</td>\n",
       "      <td>33</td>\n",
       "    </tr>\n",
       "  </tbody>\n",
       "</table>\n",
       "</div>"
      ],
      "text/plain": [
       "   expected_size  num_anchored_irrs  num_irr_pairs  replicate_num\n",
       "0             37                  0              0             34\n",
       "1             37                  0              0             35\n",
       "2             37                  0              0             24\n",
       "3             37                  0              0             11\n",
       "4             37                  0              0             33"
      ]
     },
     "execution_count": 7,
     "metadata": {},
     "output_type": "execute_result"
    }
   ],
   "source": [
    "irr_counts = []\n",
    "\n",
    "for run_dir in os.listdir(input_dir):\n",
    "    expected_size = int(run_dir)\n",
    "    \n",
    "    for input_fname in os.listdir(input_dir + run_dir):\n",
    "        if not input_fname.endswith('.json'):\n",
    "            continue\n",
    "\n",
    "        replicate_num = int(input_fname.replace('.json', ''))\n",
    "        \n",
    "        with open('{}/{}/{}'.format(input_dir, run_dir, input_fname), 'r') as eh_denovo_file:\n",
    "            eh_out = json.load(eh_denovo_file)\n",
    "\n",
    "        num_anchored_irrs = extract_anchored_irr_count(eh_out)\n",
    "        num_irr_pairs = extract_irr_pair_count(eh_out)\n",
    "\n",
    "        irr_counts.append({\n",
    "                'expected_size' : expected_size,\n",
    "                'num_anchored_irrs' : num_anchored_irrs,\n",
    "                'num_irr_pairs' : num_irr_pairs,\n",
    "                'replicate_num' : replicate_num\n",
    "            })\n",
    "\n",
    "irr_counts = DataFrame(irr_counts)\n",
    "irr_counts.head()"
   ]
  },
  {
   "cell_type": "code",
   "execution_count": null,
   "metadata": {},
   "outputs": [],
   "source": []
  },
  {
   "cell_type": "code",
   "execution_count": 8,
   "metadata": {},
   "outputs": [],
   "source": [
    "def generate_plotting_arrays(count_table):\n",
    "    \n",
    "    arrays = {'sizes': [], 'air_counts': [], 'pir_counts': []}\n",
    "    \n",
    "    for size, group in count_table.groupby('expected_size'):        \n",
    "        arrays['sizes'].append(size)\n",
    "        arrays['air_counts'].append(list(group.num_anchored_irrs))\n",
    "        arrays['pir_counts'].append(list(group.num_irr_pairs))\n",
    "    \n",
    "    return arrays"
   ]
  },
  {
   "cell_type": "code",
   "execution_count": 9,
   "metadata": {},
   "outputs": [],
   "source": [
    "def draw_boxplots(ax, sizes, counts):\n",
    "    flierprops = dict(marker='o', markerfacecolor='#5e3c99', markersize=3, linestyle='none')\n",
    "    \n",
    "    ax.axvline(x=150/3, color='#fdb863', label='Read length')\n",
    "    ax.axvline(x=350/3, color='#e66101', label='Mean fragment length')\n",
    "    \n",
    "    ax.boxplot(counts,\n",
    "               positions=sizes,\n",
    "               patch_artist=True,\n",
    "               boxprops = {'color': '#5e3c99', 'facecolor': '#5e3c99'},\n",
    "               medianprops = {'color': '#b2abd2', 'linewidth': 0},\n",
    "               whiskerprops = {'color': '#5e3c99'},\n",
    "               showcaps=False,\n",
    "               widths=0.7,\n",
    "               flierprops=flierprops)\n",
    "    \n",
    "    start, end = min(plotting_arrays['sizes']), max(plotting_arrays['sizes']) + 1\n",
    "    ax.set_xticks(np.arange(start, end, 10))\n",
    "    ax.set_xticklabels(np.arange(start, end, 10))\n",
    "    \n",
    "    ax.legend();"
   ]
  },
  {
   "cell_type": "code",
   "execution_count": 10,
   "metadata": {},
   "outputs": [
    {
     "data": {
      "image/png": "[encoded data removed]",
      "text/plain": [
       "<Figure size 1080x720 with 2 Axes>"
      ]
     },
     "metadata": {
      "needs_background": "light"
     },
     "output_type": "display_data"
    }
   ],
   "source": [
    "fig, [ax1, ax2] = plt.subplots(nrows=2, ncols=1, figsize=(15, 10))\n",
    "\n",
    "plotting_arrays = generate_plotting_arrays(irr_counts)\n",
    "draw_boxplots(ax1, plotting_arrays['sizes'], plotting_arrays['air_counts'])\n",
    "draw_boxplots(ax2, plotting_arrays['sizes'], plotting_arrays['pir_counts'])\n",
    "\n",
    "\n",
    "ax1.set_ylabel('IRR count')\n",
    "ax2.set_ylabel('IRR count')\n",
    "ax2.set_xlabel('Repeat size (units)');"
   ]
  },
  {
   "cell_type": "code",
   "execution_count": null,
   "metadata": {},
   "outputs": [],
   "source": []
  }
 ],
 "metadata": {
  "kernelspec": {
   "display_name": "Python 3",
   "language": "python",
   "name": "python3"
  },
  "language_info": {
   "codemirror_mode": {
    "name": "ipython",
    "version": 3
   },
   "file_extension": ".py",
   "mimetype": "text/x-python",
   "name": "python",
   "nbconvert_exporter": "python",
   "pygments_lexer": "ipython3",
   "version": "3.6.7"
  }
 },
 "nbformat": 4,
 "nbformat_minor": 2
}
