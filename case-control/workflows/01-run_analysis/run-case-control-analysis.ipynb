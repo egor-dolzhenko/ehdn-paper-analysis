{
 "cells": [
  {
   "cell_type": "code",
   "execution_count": 2,
   "metadata": {},
   "outputs": [],
   "source": [
    "import os\n",
    "import json\n",
    "from collections import namedtuple"
   ]
  },
  {
   "cell_type": "code",
   "execution_count": 3,
   "metadata": {},
   "outputs": [],
   "source": [
    "target_conditions = set(['FRDA', 'DM1', 'HD', 'FXS'])"
   ]
  },
  {
   "cell_type": "markdown",
   "metadata": {},
   "source": [
    "## Define paths"
   ]
  },
  {
   "cell_type": "code",
   "execution_count": 4,
   "metadata": {},
   "outputs": [],
   "source": [
    "inputs = '../../input/'\n",
    "scratch = '../../scratch/'\n",
    "tools = '../../tools/'\n",
    "reference = '../../../../common/refs/grch37/human_g1k_v37.fasta'"
   ]
  },
  {
   "cell_type": "markdown",
   "metadata": {},
   "source": [
    "## Load coriell info"
   ]
  },
  {
   "cell_type": "code",
   "execution_count": 5,
   "metadata": {},
   "outputs": [
    {
     "name": "stdout",
     "output_type": "stream",
     "text": [
      "91\n"
     ]
    },
    {
     "data": {
      "text/plain": [
       "[Phenotype(id='NA06075', condition='DM1', status='Expansion'),\n",
       " Phenotype(id='NA04567', condition='DM1', status='Expansion'),\n",
       " Phenotype(id='NA05164', condition='DM1', status='Expansion'),\n",
       " Phenotype(id='NA04648', condition='DM1', status='Expansion'),\n",
       " Phenotype(id='NA05152', condition='DM1', status='Expansion'),\n",
       " Phenotype(id='NA23378', condition='DM1', status='Expansion'),\n",
       " Phenotype(id='NA23374', condition='DM1', status='Expansion'),\n",
       " Phenotype(id='NA23300', condition='DM1', status='Expansion'),\n",
       " Phenotype(id='NA03986', condition='DM1', status='Expansion'),\n",
       " Phenotype(id='NA03989', condition='DM1', status='Expansion'),\n",
       " Phenotype(id='NA03990', condition='DM1', status='Expansion'),\n",
       " Phenotype(id='NA03696', condition='DM1', status='Expansion'),\n",
       " Phenotype(id='NA03759', condition='DM1', status='Expansion'),\n",
       " Phenotype(id='NA04034', condition='DM1', status='Expansion'),\n",
       " Phenotype(id='NA03697', condition='DM1', status='Expansion'),\n",
       " Phenotype(id='NA03132', condition='DM1', status='Expansion'),\n",
       " Phenotype(id='NA03756', condition='DM1', status='Expansion'),\n",
       " Phenotype(id='NA03816', condition='FRDA', status='Double_Expansion'),\n",
       " Phenotype(id='NA04079', condition='FRDA', status='Double_Expansion'),\n",
       " Phenotype(id='NA14519', condition='FRDA', status='Carrier'),\n",
       " Phenotype(id='NA15850', condition='FRDA', status='Double_Expansion'),\n",
       " Phenotype(id='NA15847', condition='FRDA', status='Carrier'),\n",
       " Phenotype(id='NA15848', condition='FRDA', status='Carrier'),\n",
       " Phenotype(id='NA16197', condition='FRDA', status='Double_Expansion'),\n",
       " Phenotype(id='NA16200', condition='FRDA', status='Carrier'),\n",
       " Phenotype(id='NA16202', condition='FRDA', status='Carrier'),\n",
       " Phenotype(id='NA16203', condition='FRDA', status='Double_Expansion'),\n",
       " Phenotype(id='NA16205', condition='FRDA', status='Double_Expansion'),\n",
       " Phenotype(id='NA16209', condition='FRDA', status='Double_Expansion'),\n",
       " Phenotype(id='NA16210', condition='FRDA', status='Double_Expansion'),\n",
       " Phenotype(id='NA16212', condition='FRDA', status='Carrier'),\n",
       " Phenotype(id='NA16216', condition='FRDA', status='Double_Expansion'),\n",
       " Phenotype(id='NA16213', condition='FRDA', status='Carrier'),\n",
       " Phenotype(id='NA16215', condition='FRDA', status='Carrier'),\n",
       " Phenotype(id='NA16214', condition='FRDA', status='Double_Expansion'),\n",
       " Phenotype(id='NA16227', condition='FRDA', status='Double_Expansion'),\n",
       " Phenotype(id='NA16229', condition='FRDA', status='Carrier'),\n",
       " Phenotype(id='NA16228', condition='FRDA', status='Double_Expansion'),\n",
       " Phenotype(id='NA16237', condition='FRDA', status='Carrier'),\n",
       " Phenotype(id='NA16243', condition='FRDA', status='Double_Expansion'),\n",
       " Phenotype(id='NA16240', condition='FRDA', status='Carrier'),\n",
       " Phenotype(id='NA16207', condition='FRDA', status='Double_Expansion'),\n",
       " Phenotype(id='NA04025', condition='FXS', status='Expansion'),\n",
       " Phenotype(id='NA04926', condition='FXS', status='Expansion'),\n",
       " Phenotype(id='NA05131', condition='FXS', status='Expansion'),\n",
       " Phenotype(id='NA05185', condition='FXS', status='Expansion'),\n",
       " Phenotype(id='NA09145', condition='FXS', status='Expansion'),\n",
       " Phenotype(id='NA09237', condition='FXS', status='Expansion'),\n",
       " Phenotype(id='NA07063', condition='FXS', status='Premutation'),\n",
       " Phenotype(id='NA06905', condition='FXS', status='Premutation'),\n",
       " Phenotype(id='NA06910', condition='FXS', status='Premutation'),\n",
       " Phenotype(id='NA06894', condition='FXS', status='Premutation'),\n",
       " Phenotype(id='NA06896', condition='FXS', status='Premutation'),\n",
       " Phenotype(id='NA07537', condition='FXS', status='Expansion'),\n",
       " Phenotype(id='NA06897', condition='FXS', status='Expansion'),\n",
       " Phenotype(id='NA06903', condition='FXS', status='Premutation'),\n",
       " Phenotype(id='NA06852', condition='FXS', status='Expansion'),\n",
       " Phenotype(id='NA06891', condition='FXS', status='Premutation'),\n",
       " Phenotype(id='NA06907', condition='FXS', status='Premutation'),\n",
       " Phenotype(id='NA06906', condition='FXS', status='Premutation'),\n",
       " Phenotype(id='NA06892', condition='FXS', status='Premutation'),\n",
       " Phenotype(id='NA06968', condition='FXS', status='Premutation'),\n",
       " Phenotype(id='NA07294', condition='FXS', status='Expansion'),\n",
       " Phenotype(id='NA09316', condition='FXS', status='Expansion'),\n",
       " Phenotype(id='NA09317', condition='FXS', status='Expansion'),\n",
       " Phenotype(id='NA09497', condition='FXS', status='Expansion'),\n",
       " Phenotype(id='NA07730', condition='FXS', status='Expansion'),\n",
       " Phenotype(id='CD00014', condition='FXS', status='Premutation'),\n",
       " Phenotype(id='NA03200', condition='FXS', status='Expansion'),\n",
       " Phenotype(id='NA20237', condition='FXS', status='Premutation'),\n",
       " Phenotype(id='NA20239', condition='FXS', status='Premutation'),\n",
       " Phenotype(id='NA20242', condition='FXS', status='Premutation'),\n",
       " Phenotype(id='NA20233', condition='FXS', status='Premutation'),\n",
       " Phenotype(id='NA20231', condition='FXS', status='Premutation'),\n",
       " Phenotype(id='NA20240', condition='FXS', status='Premutation'),\n",
       " Phenotype(id='NA20241', condition='FXS', status='Premutation'),\n",
       " Phenotype(id='NA07862', condition='FXS', status='Expansion'),\n",
       " Phenotype(id='NA13509', condition='HD', status='Expansion'),\n",
       " Phenotype(id='NA13515', condition='HD', status='Expansion'),\n",
       " Phenotype(id='CD00022', condition='HD', status='Premutation'),\n",
       " Phenotype(id='NA13507', condition='HD', status='Expansion'),\n",
       " Phenotype(id='NA13508', condition='HD', status='Expansion'),\n",
       " Phenotype(id='NA13510', condition='HD', status='Expansion'),\n",
       " Phenotype(id='NA13511', condition='HD', status='Expansion'),\n",
       " Phenotype(id='NA13512', condition='HD', status='Expansion'),\n",
       " Phenotype(id='NA13513', condition='HD', status='Expansion'),\n",
       " Phenotype(id='NA13514', condition='HD', status='Expansion'),\n",
       " Phenotype(id='NA13503', condition='HD', status='Expansion'),\n",
       " Phenotype(id='NA13504', condition='HD', status='Expansion'),\n",
       " Phenotype(id='NA13505', condition='HD', status='Expansion'),\n",
       " Phenotype(id='NA13506', condition='HD', status='Expansion')]"
      ]
     },
     "execution_count": 5,
     "metadata": {},
     "output_type": "execute_result"
    }
   ],
   "source": [
    "Phenotype = namedtuple('Phenotype', 'id condition status')\n",
    "\n",
    "phenotypes = ! cat {inputs}/coriell_phenotype_table.tsv\n",
    "phenotypes = [Phenotype(id=rec.split()[0], condition=rec.split()[1], status=rec.split()[2])\n",
    "              for rec in phenotypes]\n",
    "\n",
    "phenotypes = [rec for rec in phenotypes\n",
    "              if rec.condition in target_conditions and rec.status != 'Normal']\n",
    "\n",
    "print(len(phenotypes))\n",
    "phenotypes"
   ]
  },
  {
   "cell_type": "markdown",
   "metadata": {},
   "source": [
    "## Generate manifest for a given repeat"
   ]
  },
  {
   "cell_type": "code",
   "execution_count": 31,
   "metadata": {},
   "outputs": [],
   "source": [
    "def get_control_records():\n",
    "    records = []\n",
    "    dir_path = os.path.join(inputs, 'Diversity/')\n",
    "    for fname in os.listdir(dir_path):\n",
    "        sample = fname.replace('.str_profile.json', '')\n",
    "        file_path = os.path.abspath(os.path.join(dir_path, fname))\n",
    "        records.append((sample, 'control', file_path))\n",
    "    return records"
   ]
  },
  {
   "cell_type": "code",
   "execution_count": 33,
   "metadata": {},
   "outputs": [
    {
     "data": {
      "text/plain": [
       "150"
      ]
     },
     "execution_count": 33,
     "metadata": {},
     "output_type": "execute_result"
    }
   ],
   "source": [
    "len(get_control_records())"
   ]
  },
  {
   "cell_type": "code",
   "execution_count": 48,
   "metadata": {},
   "outputs": [],
   "source": [
    "def get_case_records(condition):\n",
    "    records = []\n",
    "    target_samples = [pheno.id for pheno in phenotypes if pheno.condition == condition]\n",
    "    dir_path = os.path.join(inputs, 'RepeatExpansions')\n",
    "    for fname in os.listdir(dir_path):\n",
    "        file_path = os.path.abspath(os.path.join(dir_path, fname))\n",
    "        sample = fname.replace('.str_profile.json', '')\n",
    "        if sample in target_samples:\n",
    "            records.append((sample, 'case', file_path))\n",
    "    return records"
   ]
  },
  {
   "cell_type": "code",
   "execution_count": 56,
   "metadata": {},
   "outputs": [],
   "source": [
    "for condition in target_conditions:\n",
    "    records = get_case_records(condition)\n",
    "    records.extend(get_control_records())\n",
    "    \n",
    "    lines = ['\\t'.join(line) for line in records]\n",
    "    with open(os.path.join(scratch, condition, 'manifest.tsv'), 'w') as manifest_file:\n",
    "        print('\\n'.join(lines), file=manifest_file)"
   ]
  },
  {
   "cell_type": "markdown",
   "metadata": {},
   "source": [
    "## Perform case-control analysis"
   ]
  },
  {
   "cell_type": "code",
   "execution_count": 10,
   "metadata": {},
   "outputs": [
    {
     "name": "stderr",
     "output_type": "stream",
     "text": [
      "2019-11-06 14:35:38,913: Loaded 81499 regions\n",
      "2019-11-06 14:35:38,913: Normalizing counts\n",
      "2019-11-06 14:35:39,113: Filtering counts\n",
      "2019-11-06 14:35:39,207: 2263 regions left after filtering\n",
      "2019-11-06 14:35:39,207: Comparing counts\n",
      "2019-11-06 14:35:39,805: Correcting p-values\n",
      "2019-11-06 14:35:40,038: Done\n",
      "2019-11-06 14:35:40,703: Loaded 80460 regions\n",
      "2019-11-06 14:35:40,703: Normalizing counts\n",
      "2019-11-06 14:35:40,890: Filtering counts\n",
      "2019-11-06 14:35:40,982: 2277 regions left after filtering\n",
      "2019-11-06 14:35:40,982: Comparing counts\n",
      "2019-11-06 14:35:41,471: Correcting p-values\n",
      "2019-11-06 14:35:41,701: Done\n",
      "2019-11-06 14:35:42,354: Loaded 78810 regions\n",
      "2019-11-06 14:35:42,354: Normalizing counts\n",
      "2019-11-06 14:35:42,537: Filtering counts\n",
      "2019-11-06 14:35:42,628: 2253 regions left after filtering\n",
      "2019-11-06 14:35:42,628: Comparing counts\n",
      "2019-11-06 14:35:43,112: Correcting p-values\n",
      "2019-11-06 14:35:43,334: Done\n",
      "2019-11-06 14:35:44,041: Loaded 85286 regions\n",
      "2019-11-06 14:35:44,041: Normalizing counts\n",
      "2019-11-06 14:35:44,251: Filtering counts\n",
      "2019-11-06 14:35:44,347: 2324 regions left after filtering\n",
      "2019-11-06 14:35:44,348: Comparing counts\n",
      "2019-11-06 14:35:44,885: Correcting p-values\n",
      "2019-11-06 14:35:45,148: Done\n",
      "2019-11-06 14:35:45,794: Loaded 1257 regions\n",
      "2019-11-06 14:35:45,794: Normalizing counts\n",
      "2019-11-06 14:35:45,806: Filtering counts\n",
      "2019-11-06 14:35:45,810: 253 regions left after filtering\n",
      "2019-11-06 14:35:45,810: Comparing counts\n",
      "2019-11-06 14:35:45,869: Correcting p-values\n",
      "2019-11-06 14:35:45,899: Done\n",
      "2019-11-06 14:35:46,533: Loaded 1258 regions\n",
      "2019-11-06 14:35:46,534: Normalizing counts\n",
      "2019-11-06 14:35:46,545: Filtering counts\n",
      "2019-11-06 14:35:46,549: 260 regions left after filtering\n",
      "2019-11-06 14:35:46,549: Comparing counts\n",
      "2019-11-06 14:35:46,607: Correcting p-values\n",
      "2019-11-06 14:35:46,634: Done\n",
      "2019-11-06 14:35:47,237: Loaded 1252 regions\n",
      "2019-11-06 14:35:47,238: Normalizing counts\n",
      "2019-11-06 14:35:47,248: Filtering counts\n",
      "2019-11-06 14:35:47,251: 252 regions left after filtering\n",
      "2019-11-06 14:35:47,252: Comparing counts\n",
      "2019-11-06 14:35:47,308: Correcting p-values\n",
      "2019-11-06 14:35:47,335: Done\n",
      "2019-11-06 14:35:47,984: Loaded 1291 regions\n",
      "2019-11-06 14:35:47,984: Normalizing counts\n",
      "2019-11-06 14:35:47,996: Filtering counts\n",
      "2019-11-06 14:35:47,999: 255 regions left after filtering\n",
      "2019-11-06 14:35:48,000: Comparing counts\n",
      "2019-11-06 14:35:48,056: Correcting p-values\n",
      "2019-11-06 14:35:48,086: Done\n"
     ]
    }
   ],
   "source": [
    "%%bash -s \"$tools\" \"$scratch\" \"$reference\"\n",
    "\n",
    "tools=$1\n",
    "scratch=$2\n",
    "reference=$3\n",
    "\n",
    "#for condition in FRDA DM1 HD FXS\n",
    "#do\n",
    "#  $tools/ExpansionHunterDenovo/build/ExpansionHunterDenovo merge \\\n",
    "#    --reference $reference \\\n",
    "#    --manifest $scratch/$condition/manifest.tsv \\\n",
    "#    --output-prefix $scratch/$condition/dataset \\\n",
    "#    --min-unit-len 2 \\\n",
    "#    --max-unit-len 15\n",
    "#done\n",
    "\n",
    "for condition in FRDA DM1 HD FXS\n",
    "do\n",
    "  $tools/ExpansionHunterDenovo/scripts/casecontrol.py locus \\\n",
    "    --manifest $scratch/$condition/manifest.tsv \\\n",
    "    --min-inrepeat-reads 5 \\\n",
    "    --test-params normal \\\n",
    "    --multisample-profile $scratch/$condition/dataset.multisample_profile.json \\\n",
    "    --output $scratch/$condition/locus.case-control.tsv\n",
    "done\n",
    "\n",
    "\n",
    "for condition in FRDA DM1 HD FXS\n",
    "do\n",
    "  $tools/ExpansionHunterDenovo/scripts/casecontrol.py motif \\\n",
    "    --manifest $scratch/$condition/manifest.tsv \\\n",
    "    --multisample-profile $scratch/$condition/dataset.multisample_profile.json \\\n",
    "    --output $scratch/$condition/motif.case-control.tsv \\\n",
    "    --min-inrepeat-read-pairs 5 \\\n",
    "    --test-params normal\n",
    "done\n"
   ]
  },
  {
   "cell_type": "code",
   "execution_count": null,
   "metadata": {},
   "outputs": [],
   "source": []
  },
  {
   "cell_type": "code",
   "execution_count": null,
   "metadata": {},
   "outputs": [],
   "source": []
  }
 ],
 "metadata": {
  "kernelspec": {
   "display_name": "Python 3",
   "language": "python",
   "name": "python3"
  },
  "language_info": {
   "codemirror_mode": {
    "name": "ipython",
    "version": 3
   },
   "file_extension": ".py",
   "mimetype": "text/x-python",
   "name": "python",
   "nbconvert_exporter": "python",
   "pygments_lexer": "ipython3",
   "version": "3.7.3"
  }
 },
 "nbformat": 4,
 "nbformat_minor": 2
}
